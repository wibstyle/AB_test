{
 "cells": [
  {
   "cell_type": "code",
   "execution_count": 2,
   "metadata": {},
   "outputs": [],
   "source": [
    "import pandas as pd\n",
    "import os\n",
    "import glob\n",
    "import numpy as np\n"
   ]
  },
  {
   "cell_type": "code",
   "execution_count": 233,
   "metadata": {},
   "outputs": [
    {
     "name": "stdout",
     "output_type": "stream",
     "text": [
      "json files: ['d:\\\\Dataset\\\\Parkster\\\\notebook\\\\\\\\data\\\\events_a.ndjson.gz', 'd:\\\\Dataset\\\\Parkster\\\\notebook\\\\\\\\data\\\\events_b.ndjson.gz', 'd:\\\\Dataset\\\\Parkster\\\\notebook\\\\\\\\data\\\\events_before_test.ndjson.gz']\n",
      "csv files: ['d:\\\\Dataset\\\\Parkster\\\\notebook\\\\\\\\data\\\\extra_info_a.csv.gz', 'd:\\\\Dataset\\\\Parkster\\\\notebook\\\\\\\\data\\\\extra_info_b.csv.gz', 'd:\\\\Dataset\\\\Parkster\\\\notebook\\\\\\\\data\\\\extra_info_before_test.csv.gz']\n"
     ]
    }
   ],
   "source": [
    "ndjson_files = glob.glob(os.path.join(os.getcwd() + r\"\\\\data\", \"*ndjson.gz\"))\n",
    "csv_files = glob.glob(os.path.join(os.getcwd() + r\"\\\\data\", \"*csv.gz\"))\n",
    "print(f\"json files: {ndjson_files}\")\n",
    "print(f\"csv files: {csv_files}\")"
   ]
  },
  {
   "cell_type": "code",
   "execution_count": 234,
   "metadata": {},
   "outputs": [
    {
     "data": {
      "text/plain": [
       "'.gz'"
      ]
     },
     "execution_count": 234,
     "metadata": {},
     "output_type": "execute_result"
    }
   ],
   "source": [
    "csv_files[0][-3:]"
   ]
  },
  {
   "cell_type": "code",
   "execution_count": 235,
   "metadata": {},
   "outputs": [],
   "source": [
    "def filename (path_name):\n",
    "    # function that creates a new folder called \"fixed\" where to save the fixed files\n",
    "    dir_path, filename = os.path.split(path_name)\n",
    "    \n",
    "    new_dir_path = os.path.join(dir_path, 'fixed')\n",
    "    \n",
    "    if not os.path.exists(new_dir_path):\n",
    "        os.mkdir(new_dir_path)\n",
    "    \n",
    "    new_file_path = os.path.join(new_dir_path, filename[:-3])\n",
    "    \n",
    "    if new_file_path[-3:] != 'csv':\n",
    "        new_file_path = new_file_path[:-7] + \".csv\"\n",
    "    \n",
    "    return new_file_path\n",
    "    "
   ]
  },
  {
   "cell_type": "code",
   "execution_count": 236,
   "metadata": {},
   "outputs": [],
   "source": [
    "def csv_cleaner(csv_files):\n",
    "    for i in csv_files:\n",
    "        # load csv-file, replace double comma with single comma, and split column into 4 columns.\n",
    "        df = pd.read_csv(i, compression='gzip',sep=\"\\t\", header=None)\n",
    "        df = df.replace(',,', ',')\n",
    "        df[['cl1', 'cl2', 'cl3', 'cl4']] = df.iloc[:, 0].str.split(',', expand=True)\n",
    "        \n",
    "        df = df.fillna('')\n",
    "        \n",
    "        # combine column cl3 and cl4 (2 gender columns) into 1\n",
    "        df['cl5'] = df['cl3'] + df['cl4']\n",
    "        \n",
    "        # only keep relevant columns user_id, country and gender (the combined)\n",
    "        df = df.iloc[:, [1,2,5]]\n",
    "        \n",
    "        # while loading the csv-file we didnt use the header, now we create header based on value in row 1\n",
    "        df.columns = df.iloc[0]\n",
    "        df = df.drop(df.index[0])\n",
    "\n",
    "        # error in country column, mix of upper and lower case, and Sweden and Sverige both exist in the column\n",
    "        df = df.replace('', np.nan)\n",
    "        df['country'] = df['country'].str.lower()\n",
    "        df['country'] = df['country'].replace('sverige', 'sweden')\n",
    "    \n",
    "        print(df.info())\n",
    "        print(\"\")\n",
    "        \n",
    "        new_file = filename(i)\n",
    "        df.to_csv(new_file)\n",
    "        "
   ]
  },
  {
   "cell_type": "code",
   "execution_count": 237,
   "metadata": {},
   "outputs": [],
   "source": [
    "def ndjson_cleaner(ndjson_files):\n",
    "    for i in ndjson_files:\n",
    "        df = pd.read_json(i, lines=True)\n",
    "        new_file = filename (i)\n",
    "        df.to_csv(new_file)\n",
    "        print(df.info())\n",
    "        print(\"\")"
   ]
  },
  {
   "cell_type": "code",
   "execution_count": 238,
   "metadata": {},
   "outputs": [
    {
     "name": "stdout",
     "output_type": "stream",
     "text": [
      "<class 'pandas.core.frame.DataFrame'>\n",
      "RangeIndex: 888 entries, 1 to 888\n",
      "Data columns (total 3 columns):\n",
      " #   Column   Non-Null Count  Dtype \n",
      "---  ------   --------------  ----- \n",
      " 0   user_id  888 non-null    object\n",
      " 1   country  812 non-null    object\n",
      " 2   gender   816 non-null    object\n",
      "dtypes: object(3)\n",
      "memory usage: 20.9+ KB\n",
      "None\n",
      "\n",
      "<class 'pandas.core.frame.DataFrame'>\n",
      "RangeIndex: 893 entries, 1 to 893\n",
      "Data columns (total 3 columns):\n",
      " #   Column   Non-Null Count  Dtype \n",
      "---  ------   --------------  ----- \n",
      " 0   user_id  893 non-null    object\n",
      " 1   country  804 non-null    object\n",
      " 2   gender   805 non-null    object\n",
      "dtypes: object(3)\n",
      "memory usage: 21.1+ KB\n",
      "None\n",
      "\n",
      "<class 'pandas.core.frame.DataFrame'>\n",
      "RangeIndex: 8900 entries, 1 to 8900\n",
      "Data columns (total 3 columns):\n",
      " #   Column   Non-Null Count  Dtype \n",
      "---  ------   --------------  ----- \n",
      " 0   user_id  8900 non-null   object\n",
      " 1   country  8131 non-null   object\n",
      " 2   gender   8071 non-null   object\n",
      "dtypes: object(3)\n",
      "memory usage: 208.7+ KB\n",
      "None\n",
      "\n",
      "<class 'pandas.core.frame.DataFrame'>\n",
      "RangeIndex: 1098 entries, 0 to 1097\n",
      "Data columns (total 5 columns):\n",
      " #   Column        Non-Null Count  Dtype         \n",
      "---  ------        --------------  -----         \n",
      " 0   user_id       1098 non-null   object        \n",
      " 1   account_type  1098 non-null   object        \n",
      " 2   date          1098 non-null   datetime64[ns]\n",
      " 3   event_type    1098 non-null   object        \n",
      " 4   order_value   98 non-null     float64       \n",
      "dtypes: datetime64[ns](1), float64(1), object(3)\n",
      "memory usage: 43.0+ KB\n",
      "None\n",
      "\n",
      "<class 'pandas.core.frame.DataFrame'>\n",
      "RangeIndex: 1141 entries, 0 to 1140\n",
      "Data columns (total 5 columns):\n",
      " #   Column        Non-Null Count  Dtype         \n",
      "---  ------        --------------  -----         \n",
      " 0   user_id       1141 non-null   object        \n",
      " 1   account_type  1141 non-null   object        \n",
      " 2   date          1141 non-null   datetime64[ns]\n",
      " 3   event_type    1141 non-null   object        \n",
      " 4   order_value   141 non-null    float64       \n",
      "dtypes: datetime64[ns](1), float64(1), object(3)\n",
      "memory usage: 44.7+ KB\n",
      "None\n",
      "\n",
      "<class 'pandas.core.frame.DataFrame'>\n",
      "RangeIndex: 11023 entries, 0 to 11022\n",
      "Data columns (total 5 columns):\n",
      " #   Column        Non-Null Count  Dtype         \n",
      "---  ------        --------------  -----         \n",
      " 0   user_id       11023 non-null  object        \n",
      " 1   account_type  11023 non-null  object        \n",
      " 2   date          11023 non-null  datetime64[ns]\n",
      " 3   event_type    11023 non-null  object        \n",
      " 4   order_value   1023 non-null   float64       \n",
      "dtypes: datetime64[ns](1), float64(1), object(3)\n",
      "memory usage: 430.7+ KB\n",
      "None\n",
      "\n"
     ]
    }
   ],
   "source": [
    "csv_cleaner(csv_files)\n",
    "ndjson_cleaner(ndjson_files)"
   ]
  },
  {
   "cell_type": "code",
   "execution_count": null,
   "metadata": {},
   "outputs": [],
   "source": []
  }
 ],
 "metadata": {
  "kernelspec": {
   "display_name": "new",
   "language": "python",
   "name": "python3"
  },
  "language_info": {
   "codemirror_mode": {
    "name": "ipython",
    "version": 3
   },
   "file_extension": ".py",
   "mimetype": "text/x-python",
   "name": "python",
   "nbconvert_exporter": "python",
   "pygments_lexer": "ipython3",
   "version": "3.8.12"
  },
  "orig_nbformat": 4,
  "vscode": {
   "interpreter": {
    "hash": "c853e5d7f049679f46ee365c77fec8b4943e16b81c53fe6075b18d122fe67c7e"
   }
  }
 },
 "nbformat": 4,
 "nbformat_minor": 2
}
