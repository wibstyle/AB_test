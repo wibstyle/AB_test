{
 "cells": [
  {
   "cell_type": "code",
   "execution_count": null,
   "metadata": {},
   "outputs": [],
   "source": [
    "import pandas as pd\n",
    "import os\n",
    "import glob\n",
    "import numpy as np\n",
    "import seaborn as sns\n",
    "import matplotlib.pylab as plt \n",
    "import numpy as np\n",
    "import math\n",
    "\n"
   ]
  },
  {
   "cell_type": "code",
   "execution_count": null,
   "metadata": {},
   "outputs": [],
   "source": [
    "csv_files = glob.glob(os.path.join(os.getcwd() + r\"\\data\\\\fixed\", \"*csv\"))\n",
    "print(f\"csv files: {csv_files}\")"
   ]
  },
  {
   "cell_type": "code",
   "execution_count": null,
   "metadata": {},
   "outputs": [],
   "source": [
    "def merge_events(csv_files, index1, index2):\n",
    "    # merge csv files\n",
    "    df1 = pd.read_csv(csv_files[index1], index_col=0)\n",
    "    df2 = pd.read_csv(csv_files[index2], index_col=0)\n",
    "    \n",
    "    df = pd.merge(df1, df2, on='user_id', how='left')\n",
    "    return df\n",
    "    "
   ]
  },
  {
   "cell_type": "code",
   "execution_count": null,
   "metadata": {},
   "outputs": [],
   "source": [
    "df_event_a = merge_events(csv_files, 0, 3)\n",
    "df_event_b = merge_events(csv_files, 1, 4)\n",
    "df_event_before = merge_events(csv_files, 2, 5)"
   ]
  },
  {
   "cell_type": "code",
   "execution_count": null,
   "metadata": {},
   "outputs": [],
   "source": [
    "# Order_value, which is our only numeric data.\n",
    "# Clearly we can see that there is outliers, Min value in both Event B and Event Before is negative.\n",
    "print(f\"Event a {df_event_a.describe()}\")\n",
    "print(\"\")\n",
    "print(f\"Event b {df_event_b.describe()}\")\n",
    "print(\"\")\n",
    "print(f\"Event before {df_event_before.describe()}\")"
   ]
  },
  {
   "attachments": {},
   "cell_type": "markdown",
   "metadata": {},
   "source": [
    "### Counting values on each column to see where we have null-values"
   ]
  },
  {
   "cell_type": "code",
   "execution_count": null,
   "metadata": {},
   "outputs": [],
   "source": [
    "df_event_a.info()"
   ]
  },
  {
   "cell_type": "code",
   "execution_count": null,
   "metadata": {},
   "outputs": [],
   "source": [
    "df_event_b.info()"
   ]
  },
  {
   "cell_type": "code",
   "execution_count": null,
   "metadata": {},
   "outputs": [],
   "source": [
    "df_event_before.info()"
   ]
  },
  {
   "attachments": {},
   "cell_type": "markdown",
   "metadata": {},
   "source": [
    "In all three cases we see around 20 % missing values in country and gender."
   ]
  },
  {
   "attachments": {},
   "cell_type": "markdown",
   "metadata": {},
   "source": [
    "# EDA"
   ]
  },
  {
   "attachments": {},
   "cell_type": "markdown",
   "metadata": {},
   "source": [
    "Time to see where we have outliers"
   ]
  },
  {
   "cell_type": "code",
   "execution_count": null,
   "metadata": {},
   "outputs": [],
   "source": [
    "sns.boxplot(df_event_a)\n",
    "plt.show()\n",
    "sns.boxplot(df_event_b)\n",
    "plt.show()\n",
    "sns.boxplot(df_event_before)"
   ]
  },
  {
   "attachments": {},
   "cell_type": "markdown",
   "metadata": {},
   "source": [
    "We can clearly see outliers both high and low values. But values below zero must be an error so only these i will remove."
   ]
  },
  {
   "cell_type": "code",
   "execution_count": null,
   "metadata": {},
   "outputs": [],
   "source": [
    "def remove_below_zero_outliers(df, df_name):\n",
    "    # function to remove values below or equal to zero\n",
    "    print(f\"Outliers removed from {df_name}: {df.order_value[df.order_value <= 0].count()}\")\n",
    "    df_filtered = df.loc[(df['event_type'] != 'purchased_shopping_cart') | (df['order_value'] > 0)]\n",
    "\n",
    "    df_filtered = df_filtered.drop(df_filtered.loc[(df_filtered['event_type'] == 'purchased_shopping_cart') & (df_filtered['order_value'] < 0)].index)\n",
    "    \n",
    "    return df_filtered"
   ]
  },
  {
   "cell_type": "code",
   "execution_count": null,
   "metadata": {},
   "outputs": [],
   "source": [
    "df_event_a = remove_below_zero_outliers(df_event_a, \"df_event_a\")\n",
    "df_event_b = remove_below_zero_outliers(df_event_b, \"df_event_b\")\n",
    "df_event_before = remove_below_zero_outliers(df_event_before, \"df_event_before\")"
   ]
  },
  {
   "attachments": {},
   "cell_type": "markdown",
   "metadata": {},
   "source": [
    "## Time frame"
   ]
  },
  {
   "cell_type": "code",
   "execution_count": null,
   "metadata": {},
   "outputs": [],
   "source": [
    "# Change type of data from object to datetime\n",
    "df_event_a.date = pd.to_datetime(df_event_a.date)\n",
    "df_event_b.date = pd.to_datetime(df_event_b.date)\n",
    "df_event_before.date = pd.to_datetime(df_event_before.date)"
   ]
  },
  {
   "cell_type": "code",
   "execution_count": null,
   "metadata": {},
   "outputs": [],
   "source": [
    "df_event_a['weekday'] = df_event_a.date.dt.day_name()\n",
    "df_event_b['weekday'] = df_event_b.date.dt.day_name()\n",
    "df_event_before['weekday'] = df_event_before.date.dt.day_name()"
   ]
  },
  {
   "cell_type": "code",
   "execution_count": null,
   "metadata": {},
   "outputs": [],
   "source": [
    "print(f\"Event before: {df_event_before.date.min()} - {df_event_before.date.max()}\")\n",
    "print(f\"Event A before: {df_event_a.date.min()} - {df_event_a.date.max()}\")\n",
    "print(f\"Event B before: {df_event_b.date.min()} - {df_event_b.date.max()}\")"
   ]
  },
  {
   "attachments": {},
   "cell_type": "markdown",
   "metadata": {},
   "source": [
    "Event A and Event B rund som 1st of February to 7th of February. Event Before is the whole of January"
   ]
  },
  {
   "attachments": {},
   "cell_type": "markdown",
   "metadata": {},
   "source": [
    "# Conversion"
   ]
  },
  {
   "cell_type": "code",
   "execution_count": null,
   "metadata": {},
   "outputs": [],
   "source": [
    "conv_event_a = [df_event_a.event_type[df_event_a.event_type == \"opened_shopping_cart\"].count(),\n",
    "    df_event_a.event_type[df_event_a.event_type == \"purchased_shopping_cart\"].count()]\n",
    "conv_event_b = [df_event_b.event_type[df_event_b.event_type == \"opened_shopping_cart\"].count(),\n",
    "    df_event_b.event_type[df_event_b.event_type == \"purchased_shopping_cart\"].count()]\n",
    "\n",
    "conv_event_before = [df_event_before.event_type[df_event_before.event_type == \"opened_shopping_cart\"].count(),\n",
    "    df_event_before.event_type[df_event_before.event_type == \"purchased_shopping_cart\"].count()]\n",
    "\n",
    "print(f\"Event A: {conv_event_a} {(conv_event_a[1]/conv_event_a[0])*100} %\")\n",
    "print(f\"Event B: {conv_event_b} {(conv_event_b[1]/conv_event_b[0])*100} %\")\n",
    "print(f\"Event Before: {conv_event_before} {round((conv_event_before[1]/conv_event_before[0])*100,1)} %\")"
   ]
  },
  {
   "cell_type": "code",
   "execution_count": null,
   "metadata": {},
   "outputs": [],
   "source": [
    "print(f\"Difference betweem Event B and Event A: {round((conv_event_b[1]-conv_event_a[1]) / conv_event_a[1],2)*100} %\")\n",
    "print(f\"Difference betweem Event B and Event Before: {round((((conv_event_b[1]/conv_event_b[0]))-((conv_event_before[1]/conv_event_before[0])))/((conv_event_before[1]/conv_event_before[0]))*100,1)} %\")"
   ]
  },
  {
   "attachments": {},
   "cell_type": "markdown",
   "metadata": {},
   "source": [
    "## Sample size"
   ]
  },
  {
   "cell_type": "code",
   "execution_count": null,
   "metadata": {},
   "outputs": [],
   "source": [
    "# N = population size - number of conversion in Event Before\n",
    "N = conv_event_before[0]\n",
    "# z = z-score\n",
    "z = 1.96\n",
    "# e = margin of error\n",
    "e = 0.05\n",
    "# p = standard deviation\n",
    "p = 0.5\n",
    "\n",
    "# numerator or Unlimited population\n",
    "numerator = ((z**2) * p * (1 - p)) / (e**2)\n",
    "\n",
    "denominator = 1 + (((z**2) * p * (1 - p)) / (e**2 * N))\n",
    "\n",
    "sample_size = math.ceil(numerator / denominator)\n",
    "\n",
    "print(f\"Sample size with unlimited population {round(numerator)}\")\n",
    "print(f\"Sample size with finite population: {sample_size}\")"
   ]
  },
  {
   "cell_type": "code",
   "execution_count": null,
   "metadata": {},
   "outputs": [],
   "source": [
    "https://www.calculator.net/sample-size-calculator.html"
   ]
  },
  {
   "cell_type": "code",
   "execution_count": null,
   "metadata": {},
   "outputs": [],
   "source": [
    "print(f\"Number of conversions for Event a: {conv_event_a[1]}\")\n",
    "print(f\"Number of conversions for Event b: {conv_event_b[1]}\")\n"
   ]
  },
  {
   "attachments": {},
   "cell_type": "markdown",
   "metadata": {},
   "source": [
    "The number of samples are to low to make a statistically correct judgment on the data."
   ]
  },
  {
   "attachments": {},
   "cell_type": "markdown",
   "metadata": {},
   "source": [
    "# Gender split"
   ]
  },
  {
   "cell_type": "code",
   "execution_count": null,
   "metadata": {},
   "outputs": [],
   "source": [
    "#Event A:\n",
    "event_a_gender_opened = df_event_a.gender[df_event_a.event_type==\"opened_shopping_cart\"].value_counts(normalize=True)*100\n",
    "event_a_gender_purch = df_event_a.gender[df_event_a.event_type==\"purchased_shopping_cart\"].value_counts(normalize=True)*100\n",
    "#Event B:\n",
    "event_b_gender_opened = df_event_b.gender[df_event_b.event_type==\"opened_shopping_cart\"].value_counts(normalize=True)*100\n",
    "event_b_gender_purch = df_event_b.gender[df_event_b.event_type==\"purchased_shopping_cart\"].value_counts(normalize=True)*100\n",
    "#Event Before:\n",
    "event_be_gender_opened = df_event_before.gender[df_event_before.event_type==\"opened_shopping_cart\"].value_counts(normalize=True)*100\n",
    "event_be_gender_purch = df_event_before.gender[df_event_before.event_type==\"purchased_shopping_cart\"].value_counts(normalize=True)*100\n"
   ]
  },
  {
   "cell_type": "code",
   "execution_count": null,
   "metadata": {},
   "outputs": [],
   "source": [
    "gender_data = pd.DataFrame({\n",
    "    'Event_A_Opened': [round(event_a_gender_opened[0],1), round(event_a_gender_opened[1],1), round(event_a_gender_opened[2],1)],\n",
    "    'Event_B_Opened': [round(event_b_gender_opened[0],1), round(event_b_gender_opened[1],1), round(event_b_gender_opened[2],1)],\n",
    "    'Event_Before_Opened' : [round(event_be_gender_opened[0],1), round(event_be_gender_opened[1],1), round(event_be_gender_opened[2],1)], \n",
    "    'Event_A_Purchase': [round(event_a_gender_purch[0],1), round(event_a_gender_purch[1],1), round(event_a_gender_purch[2],1)],\n",
    "    'Event_B_Purchase': [round(event_b_gender_purch[0],1), round(event_b_gender_purch[1],1), round(event_b_gender_purch[2],1)],\n",
    "    'Event_Before_Purchase' : [round(event_be_gender_purch[0],1), round(event_be_gender_purch[1],1), round(event_be_gender_purch[2],1)] \n",
    "}, index=['man', 'woman', 'non-binary'])\n",
    "gender_data"
   ]
  },
  {
   "attachments": {},
   "cell_type": "markdown",
   "metadata": {},
   "source": [
    "## Country split"
   ]
  },
  {
   "cell_type": "code",
   "execution_count": null,
   "metadata": {},
   "outputs": [],
   "source": [
    "#Event A:\n",
    "event_a_country_opened = df_event_a.country[df_event_a.event_type==\"opened_shopping_cart\"].value_counts(normalize=True)*100\n",
    "event_a_country_purch = df_event_a.country[df_event_a.event_type==\"purchased_shopping_cart\"].value_counts(normalize=True)*100\n",
    "#Event B:\n",
    "event_b_country_opened = df_event_b.country[df_event_b.event_type==\"opened_shopping_cart\"].value_counts(normalize=True)*100\n",
    "event_b_country_purch = df_event_b.country[df_event_b.event_type==\"purchased_shopping_cart\"].value_counts(normalize=True)*100\n",
    "#Event Before:\n",
    "event_be_country_opened = df_event_before.country[df_event_before.event_type==\"opened_shopping_cart\"].value_counts(normalize=True)*100\n",
    "event_be_country_purch = df_event_before.country[df_event_before.event_type==\"purchased_shopping_cart\"].value_counts(normalize=True)*100\n"
   ]
  },
  {
   "cell_type": "code",
   "execution_count": null,
   "metadata": {},
   "outputs": [],
   "source": [
    "\n",
    "df_country = pd.concat([round(event_a_country_purch,1), round(event_b_country_purch,1), round(event_be_country_purch,1)], axis=1, keys= ['Event a', 'Event b', 'Event before'])"
   ]
  },
  {
   "cell_type": "code",
   "execution_count": null,
   "metadata": {},
   "outputs": [],
   "source": [
    "df_country"
   ]
  },
  {
   "attachments": {},
   "cell_type": "markdown",
   "metadata": {},
   "source": [
    "## Weekday split"
   ]
  },
  {
   "cell_type": "code",
   "execution_count": null,
   "metadata": {},
   "outputs": [],
   "source": [
    "def plot_weekday_percentage(df, title):\n",
    "    # order of days\n",
    "    weekday_order = [\"Monday\", \"Tuesday\", \"Wednesday\", \"Thursday\", \"Friday\", \"Saturday\",\"Sunday\"]\n",
    "    \n",
    "    # create a new dataframe with the counts of opened_shopping_cart events by weekday\n",
    "    df_opened_counts = df[df['event_type'] == 'opened_shopping_cart'].groupby('weekday').size()\n",
    "\n",
    "    # create a new dataframe with the counts of purchased_shopping_cart events by weekday\n",
    "    df_purchased_counts = df[df['event_type'] == 'purchased_shopping_cart'].groupby('weekday').size()\n",
    "\n",
    "    # calculate the percentage of opened_shopping_cart events on total opened_shopping_cart by weekday\n",
    "    df_opened_pct = df_opened_counts / df_opened_counts.sum()\n",
    "\n",
    "    # calculate the percentage of purchased_shopping_cart events on total purchased_shopping_cart by weekday\n",
    "    df_purchased_pct = df_purchased_counts / df_purchased_counts.sum()\n",
    "\n",
    "    # concatenate the two percentage dataframes\n",
    "    df_concat = pd.concat([df_opened_pct, df_purchased_pct], axis=1)\n",
    "    df_concat = df_concat.reindex(weekday_order)\n",
    "\n",
    "    # create the bar plot with a size of 10 inches by 6 inches\n",
    "    fig, ax = plt.subplots(figsize=(10, 6))\n",
    "    df_concat.plot(kind='bar', ax=ax)\n",
    "\n",
    "    # set the title and axis labels\n",
    "    ax.set_title(title)\n",
    "    ax.set_xlabel('Weekday')\n",
    "    ax.set_ylabel('Percentage')\n",
    "\n",
    "    # add a legend\n",
    "    ax.legend(['opened_shopping_cart', 'purchased_shopping_cart'])"
   ]
  },
  {
   "cell_type": "code",
   "execution_count": null,
   "metadata": {},
   "outputs": [],
   "source": [
    "plot_weekday_percentage(df_event_a, title=\"Event A\")\n",
    "plot_weekday_percentage(df_event_b, title=\"Event B\")\n",
    "plot_weekday_percentage(df_event_before, title=\"Event Before\")"
   ]
  },
  {
   "attachments": {},
   "cell_type": "markdown",
   "metadata": {},
   "source": [
    "## Sales"
   ]
  },
  {
   "cell_type": "code",
   "execution_count": null,
   "metadata": {},
   "outputs": [],
   "source": [
    "weekday_average = df_event_before.groupby('weekday')['order_value'].mean()\n",
    "weekday_average"
   ]
  },
  {
   "cell_type": "code",
   "execution_count": null,
   "metadata": {},
   "outputs": [],
   "source": [
    "sales_a = df_event_a.groupby('weekday')['order_value'].mean()\n",
    "sales_b = df_event_b.groupby('weekday')['order_value'].mean()\n",
    "sales_before = df_event_before.groupby('weekday')['order_value'].mean()\n"
   ]
  },
  {
   "cell_type": "code",
   "execution_count": null,
   "metadata": {},
   "outputs": [],
   "source": [
    "# Define the desired order of weekdays\n",
    "weekday_order = ['Monday', 'Tuesday', 'Wednesday', 'Thursday', 'Friday', 'Saturday', 'Sunday']\n",
    "\n",
    "# Reindex the three series using the weekday_order list\n",
    "sales_a = sales_a.reindex(weekday_order)\n",
    "sales_b = sales_b.reindex(weekday_order)\n",
    "sales_before = sales_before.reindex(weekday_order)\n",
    "\n",
    "# Round the three series to 2 decimal places\n",
    "sales_a = sales_a.round(2)\n",
    "sales_b = sales_b.round(2)\n",
    "sales_before = sales_before.round(2)\n"
   ]
  },
  {
   "cell_type": "code",
   "execution_count": null,
   "metadata": {},
   "outputs": [],
   "source": [
    "# Combine the three series into one DataFrame\n",
    "comb_df = pd.DataFrame({'sales_a': sales_a, 'sales_b': sales_b, 'sales_before': sales_before})\n",
    "comb_df['mean_per_row'] = comb_df.mean(axis=1)\n",
    "comb_df.mean_per_row = comb_df.mean_per_row.round(2)\n",
    "# Print the resulting DataFrame\n",
    "print(comb_df)"
   ]
  },
  {
   "attachments": {},
   "cell_type": "markdown",
   "metadata": {},
   "source": [
    "### Plot Order Value figures"
   ]
  },
  {
   "cell_type": "code",
   "execution_count": null,
   "metadata": {},
   "outputs": [],
   "source": [
    "fig, ax = plt.subplots(figsize=(15, 10))\n",
    "plt.ylim((100, comb_df.sales_a.max()+50))\n",
    "sns.lineplot(comb_df, ax=ax)"
   ]
  },
  {
   "attachments": {},
   "cell_type": "markdown",
   "metadata": {},
   "source": [
    "### Mean order value"
   ]
  },
  {
   "cell_type": "code",
   "execution_count": null,
   "metadata": {},
   "outputs": [],
   "source": [
    "print(round(df_event_a.order_value.mean(),1))\n",
    "print(round(df_event_b.order_value.mean(),1))\n",
    "print(round(df_event_before.order_value.mean(),1))"
   ]
  },
  {
   "attachments": {},
   "cell_type": "markdown",
   "metadata": {},
   "source": [
    "### Median order value"
   ]
  },
  {
   "cell_type": "code",
   "execution_count": null,
   "metadata": {},
   "outputs": [],
   "source": [
    "print(round(df_event_a.order_value.median(),1))\n",
    "print(round(df_event_b.order_value.median(),1))\n",
    "print(round(df_event_before.order_value.median(),1))"
   ]
  },
  {
   "attachments": {},
   "cell_type": "markdown",
   "metadata": {},
   "source": [
    "### Min and Max order value"
   ]
  },
  {
   "cell_type": "code",
   "execution_count": null,
   "metadata": {},
   "outputs": [],
   "source": [
    "print(f\"{df_event_a.order_value.min()} {df_event_a.order_value.max()}\")\n",
    "print(f\"{df_event_b.order_value.min()} {df_event_b.order_value.max()}\")\n",
    "print(f\"{df_event_before.order_value.min()} {df_event_before.order_value.max()}\")"
   ]
  },
  {
   "attachments": {},
   "cell_type": "markdown",
   "metadata": {},
   "source": [
    "# Looking at gender and purchases changes"
   ]
  },
  {
   "cell_type": "code",
   "execution_count": null,
   "metadata": {},
   "outputs": [],
   "source": [
    "def plot_weekday_gender_purchase(df, title):\n",
    "    weekday_order = ['Monday', 'Tuesday', 'Wednesday', 'Thursday', 'Friday', 'Saturday', 'Sunday']\n",
    "\n",
    "    # Filter the DataFrame to only include purchase_shopping_cart events\n",
    "    df_purchase = df.loc[df['event_type'] == 'purchased_shopping_cart']\n",
    "\n",
    "    # Calculate the count of male and female users for each weekday\n",
    "    df_gender = df_purchase.groupby(['weekday', 'gender']).size().reset_index(name='count')\n",
    "\n",
    "    # Calculate the percentage of each gender type for each weekday\n",
    "    df_gender_pct = pd.DataFrame()\n",
    "    for weekday in df_gender['weekday'].unique():\n",
    "        df_gender_weekday = df_gender.loc[df_gender['weekday'] == weekday].copy()\n",
    "        total_count = df_gender_weekday['count'].sum()\n",
    "        df_gender_weekday['percentage'] = df_gender_weekday['count'] / total_count * 100\n",
    "        df_gender_pct = pd.concat([df_gender_pct, df_gender_weekday])\n",
    "\n",
    "    # Create the bar plot\n",
    "\n",
    "    # Specify the order for the legend labels\n",
    "    hue_order = ['man', 'woman', 'non-binary']\n",
    "    \n",
    "    # Specify the colors for the genders\n",
    "    colors = {\"man\": \"#339FFF\", \"woman\": \"#FF5733\", \"non-binary\" : \"#33FF80\"}\n",
    "    \n",
    "    #Figsize\n",
    "    fig, ax = plt.subplots(figsize=(10, 5))\n",
    "    # Create the bar plot\n",
    "    sns.barplot(data=df_gender_pct, x='weekday', y='percentage', hue='gender', hue_order=hue_order, order=weekday_order, palette=colors, ax=ax)\n",
    "    sns.color_palette(\"pastel\")\n",
    "    # Set the title and labels for the plot\n",
    "    ax.set_title(title)\n",
    "    #sns.set(title=title, xlabel='Weekday', ylabel='Percentage of Purchases')\n",
    "\n",
    "    ax.legend(loc='upper center', bbox_to_anchor=(0.5, -0.1), ncol=2)\n",
    "    \n",
    "    # Show the plot\n",
    "    plt.show()"
   ]
  },
  {
   "cell_type": "code",
   "execution_count": null,
   "metadata": {},
   "outputs": [],
   "source": [
    "plot_weekday_gender_purchase(df_event_a, title=\"Event A\")\n",
    "plot_weekday_gender_purchase(df_event_b, title=\"Event B\")\n",
    "plot_weekday_gender_purchase(df_event_before, title=\"Event Before\")"
   ]
  },
  {
   "attachments": {},
   "cell_type": "markdown",
   "metadata": {},
   "source": [
    "# Account type"
   ]
  },
  {
   "attachments": {},
   "cell_type": "markdown",
   "metadata": {},
   "source": [
    "### Event A"
   ]
  },
  {
   "cell_type": "code",
   "execution_count": null,
   "metadata": {},
   "outputs": [],
   "source": [
    "df_event_a.account_type.unique()"
   ]
  },
  {
   "cell_type": "code",
   "execution_count": null,
   "metadata": {},
   "outputs": [],
   "source": [
    "account_event_a = df_event_a.groupby(['account_type','event_type']).count()\n",
    "account_event_a.rename(columns={'user_id':'Event a'}, inplace=True)\n",
    "#account_event_a.user_id"
   ]
  },
  {
   "cell_type": "code",
   "execution_count": null,
   "metadata": {},
   "outputs": [],
   "source": [
    "print(f\"Basic {round(account_event_a['Event a'][1]/account_event_a['Event a'][0]*100,1)} %\")\n",
    "print(f\"Free {round(account_event_a['Event a'][3]/account_event_a['Event a'][2]*100,1)} %\")\n",
    "print(f\"Premium {round(account_event_a['Event a'][5]/account_event_a['Event a'][4]*100,1)} %\")"
   ]
  },
  {
   "cell_type": "code",
   "execution_count": null,
   "metadata": {},
   "outputs": [],
   "source": [
    "temp_event_a = round(account_event_a.iloc[1::2, :1] / account_event_a.iloc[1::2, :1].sum() *100,1)"
   ]
  },
  {
   "attachments": {},
   "cell_type": "markdown",
   "metadata": {},
   "source": [
    "### Event B"
   ]
  },
  {
   "cell_type": "code",
   "execution_count": null,
   "metadata": {},
   "outputs": [],
   "source": [
    "account_event_b = df_event_b.groupby(['account_type','event_type']).count()\n",
    "account_event_b.rename(columns={'user_id':'Event b'}, inplace=True)\n"
   ]
  },
  {
   "cell_type": "code",
   "execution_count": null,
   "metadata": {},
   "outputs": [],
   "source": [
    "print(f\"Basic {round(account_event_b['Event b'][1]/account_event_b['Event b'][0]*100,1)} %\")\n",
    "print(f\"Free {round(account_event_b['Event b'][3]/account_event_b['Event b'][2]*100,1)} %\")\n",
    "print(f\"Premium {round(account_event_b['Event b'][5]/account_event_b['Event b'][4]*100,1)} %\")"
   ]
  },
  {
   "cell_type": "code",
   "execution_count": null,
   "metadata": {},
   "outputs": [],
   "source": [
    "temp_event_b = round(account_event_b.iloc[1::2, :1] / account_event_b.iloc[1::2, :1].sum() *100,1)"
   ]
  },
  {
   "attachments": {},
   "cell_type": "markdown",
   "metadata": {},
   "source": [
    "### Event Before"
   ]
  },
  {
   "cell_type": "code",
   "execution_count": null,
   "metadata": {},
   "outputs": [],
   "source": [
    "account_event_before = df_event_before.groupby(['account_type','event_type']).count()\n",
    "account_event_before.rename(columns={'user_id':'Event before'}, inplace=True)\n",
    "#account_event_before.user_id"
   ]
  },
  {
   "cell_type": "code",
   "execution_count": null,
   "metadata": {},
   "outputs": [],
   "source": [
    "print(f\"Basic {round(account_event_before['Event before'][1]/account_event_before['Event before'][0]*100,1)} %\")\n",
    "print(f\"Free {round(account_event_before['Event before'][3]/account_event_before['Event before'][2]*100,1)} %\")\n",
    "print(f\"Premium {round(account_event_before['Event before'][5]/account_event_before['Event before'][4]*100,1)} %\")"
   ]
  },
  {
   "cell_type": "code",
   "execution_count": null,
   "metadata": {},
   "outputs": [],
   "source": [
    "temp_event_before = round(account_event_before.iloc[1::2, :1] / account_event_before.iloc[1::2, :1].sum() *100,1)"
   ]
  },
  {
   "cell_type": "code",
   "execution_count": null,
   "metadata": {},
   "outputs": [],
   "source": [
    "df = pd.concat([temp_event_a, temp_event_b, temp_event_before], axis=1)"
   ]
  },
  {
   "cell_type": "code",
   "execution_count": null,
   "metadata": {},
   "outputs": [],
   "source": [
    "df"
   ]
  }
 ],
 "metadata": {
  "kernelspec": {
   "display_name": "new",
   "language": "python",
   "name": "python3"
  },
  "language_info": {
   "codemirror_mode": {
    "name": "ipython",
    "version": 3
   },
   "file_extension": ".py",
   "mimetype": "text/x-python",
   "name": "python",
   "nbconvert_exporter": "python",
   "pygments_lexer": "ipython3",
   "version": "3.8.12"
  },
  "orig_nbformat": 4,
  "vscode": {
   "interpreter": {
    "hash": "c853e5d7f049679f46ee365c77fec8b4943e16b81c53fe6075b18d122fe67c7e"
   }
  }
 },
 "nbformat": 4,
 "nbformat_minor": 2
}
