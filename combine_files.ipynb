{
 "cells": [
  {
   "cell_type": "code",
   "execution_count": 3,
   "metadata": {},
   "outputs": [],
   "source": [
    "import pandas as pd\n",
    "import os\n",
    "import glob\n",
    "import numpy as np\n",
    "import seaborn as sns\n",
    "import matplotlib.pylab as plt \n",
    "import numpy as np\n",
    "import math\n",
    "\n"
   ]
  },
  {
   "cell_type": "code",
   "execution_count": 2,
   "metadata": {},
   "outputs": [
    {
     "name": "stdout",
     "output_type": "stream",
     "text": [
      "csv files: ['d:\\\\Dataset\\\\Parkster\\\\notebook\\\\data\\\\\\\\fixed\\\\events_a.csv', 'd:\\\\Dataset\\\\Parkster\\\\notebook\\\\data\\\\\\\\fixed\\\\events_b.csv', 'd:\\\\Dataset\\\\Parkster\\\\notebook\\\\data\\\\\\\\fixed\\\\events_before_test.csv', 'd:\\\\Dataset\\\\Parkster\\\\notebook\\\\data\\\\\\\\fixed\\\\extra_info_a.csv', 'd:\\\\Dataset\\\\Parkster\\\\notebook\\\\data\\\\\\\\fixed\\\\extra_info_b.csv', 'd:\\\\Dataset\\\\Parkster\\\\notebook\\\\data\\\\\\\\fixed\\\\extra_info_before_test.csv']\n"
     ]
    }
   ],
   "source": [
    "csv_files = glob.glob(os.path.join(os.getcwd() + r\"\\data\\\\fixed\", \"*csv\"))\n",
    "print(f\"csv files: {csv_files}\")"
   ]
  },
  {
   "cell_type": "code",
   "execution_count": 3,
   "metadata": {},
   "outputs": [],
   "source": [
    "def merge_events(csv_files, index1, index2):\n",
    "    # merge csv files\n",
    "    df1 = pd.read_csv(csv_files[index1], index_col=0)\n",
    "    df2 = pd.read_csv(csv_files[index2], index_col=0)\n",
    "    \n",
    "    df = pd.merge(df1, df2, on='user_id', how='left')\n",
    "    return df\n",
    "    "
   ]
  },
  {
   "cell_type": "code",
   "execution_count": 4,
   "metadata": {},
   "outputs": [],
   "source": [
    "df_event_a = merge_events(csv_files, 0, 3)\n",
    "df_event_b = merge_events(csv_files, 1, 4)\n",
    "df_event_before = merge_events(csv_files, 2, 5)"
   ]
  },
  {
   "cell_type": "code",
   "execution_count": 5,
   "metadata": {},
   "outputs": [
    {
     "name": "stdout",
     "output_type": "stream",
     "text": [
      "Event a        order_value\n",
      "count    98.000000\n",
      "mean    222.928571\n",
      "std      81.525437\n",
      "min      13.000000\n",
      "25%     154.000000\n",
      "50%     222.000000\n",
      "75%     288.750000\n",
      "max     392.000000\n",
      "\n",
      "Event b        order_value\n",
      "count   141.000000\n",
      "mean    178.936170\n",
      "std      96.106356\n",
      "min     -25.000000\n",
      "25%     112.000000\n",
      "50%     184.000000\n",
      "75%     233.000000\n",
      "max     467.000000\n",
      "\n",
      "Event before        order_value\n",
      "count  1023.000000\n",
      "mean    219.267840\n",
      "std      82.108578\n",
      "min     -27.000000\n",
      "25%     160.000000\n",
      "50%     217.000000\n",
      "75%     270.500000\n",
      "max     544.000000\n"
     ]
    }
   ],
   "source": [
    "# Order_value, which is our only numeric data.\n",
    "# Clearly we can see that there is outliers, Min value in both Event B and Event Before is negative.\n",
    "print(f\"Event a {df_event_a.describe()}\")\n",
    "print(\"\")\n",
    "print(f\"Event b {df_event_b.describe()}\")\n",
    "print(\"\")\n",
    "print(f\"Event before {df_event_before.describe()}\")"
   ]
  },
  {
   "attachments": {},
   "cell_type": "markdown",
   "metadata": {},
   "source": [
    "### Counting values on each column to see where we have null-values"
   ]
  },
  {
   "cell_type": "code",
   "execution_count": 6,
   "metadata": {},
   "outputs": [
    {
     "name": "stdout",
     "output_type": "stream",
     "text": [
      "<class 'pandas.core.frame.DataFrame'>\n",
      "Int64Index: 1098 entries, 0 to 1097\n",
      "Data columns (total 7 columns):\n",
      " #   Column        Non-Null Count  Dtype  \n",
      "---  ------        --------------  -----  \n",
      " 0   user_id       1098 non-null   object \n",
      " 1   account_type  1098 non-null   object \n",
      " 2   date          1098 non-null   object \n",
      " 3   event_type    1098 non-null   object \n",
      " 4   order_value   98 non-null     float64\n",
      " 5   country       895 non-null    object \n",
      " 6   gender        897 non-null    object \n",
      "dtypes: float64(1), object(6)\n",
      "memory usage: 68.6+ KB\n"
     ]
    }
   ],
   "source": [
    "df_event_a.info()"
   ]
  },
  {
   "cell_type": "code",
   "execution_count": 7,
   "metadata": {},
   "outputs": [
    {
     "name": "stdout",
     "output_type": "stream",
     "text": [
      "<class 'pandas.core.frame.DataFrame'>\n",
      "Int64Index: 1141 entries, 0 to 1140\n",
      "Data columns (total 7 columns):\n",
      " #   Column        Non-Null Count  Dtype  \n",
      "---  ------        --------------  -----  \n",
      " 0   user_id       1141 non-null   object \n",
      " 1   account_type  1141 non-null   object \n",
      " 2   date          1141 non-null   object \n",
      " 3   event_type    1141 non-null   object \n",
      " 4   order_value   141 non-null    float64\n",
      " 5   country       906 non-null    object \n",
      " 6   gender        919 non-null    object \n",
      "dtypes: float64(1), object(6)\n",
      "memory usage: 71.3+ KB\n"
     ]
    }
   ],
   "source": [
    "df_event_b.info()"
   ]
  },
  {
   "cell_type": "code",
   "execution_count": 8,
   "metadata": {},
   "outputs": [
    {
     "name": "stdout",
     "output_type": "stream",
     "text": [
      "<class 'pandas.core.frame.DataFrame'>\n",
      "Int64Index: 11023 entries, 0 to 11022\n",
      "Data columns (total 7 columns):\n",
      " #   Column        Non-Null Count  Dtype  \n",
      "---  ------        --------------  -----  \n",
      " 0   user_id       11023 non-null  object \n",
      " 1   account_type  11023 non-null  object \n",
      " 2   date          11023 non-null  object \n",
      " 3   event_type    11023 non-null  object \n",
      " 4   order_value   1023 non-null   float64\n",
      " 5   country       8964 non-null   object \n",
      " 6   gender        8889 non-null   object \n",
      "dtypes: float64(1), object(6)\n",
      "memory usage: 688.9+ KB\n"
     ]
    }
   ],
   "source": [
    "df_event_before.info()"
   ]
  },
  {
   "attachments": {},
   "cell_type": "markdown",
   "metadata": {},
   "source": [
    "In all three cases we see around 20 % missing values in country and gender."
   ]
  },
  {
   "attachments": {},
   "cell_type": "markdown",
   "metadata": {},
   "source": [
    "# EDA"
   ]
  },
  {
   "attachments": {},
   "cell_type": "markdown",
   "metadata": {},
   "source": [
    "Time to see where we have outliers"
   ]
  },
  {
   "cell_type": "code",
   "execution_count": 9,
   "metadata": {},
   "outputs": [
    {
     "data": {
      "image/png": "[encoded data removed]",
      "text/plain": [
       "<Figure size 432x288 with 1 Axes>"
      ]
     },
     "metadata": {
      "needs_background": "light"
     },
     "output_type": "display_data"
    },
    {
     "data": {
      "image/png": "[encoded data removed]",
      "text/plain": [
       "<Figure size 432x288 with 1 Axes>"
      ]
     },
     "metadata": {
      "needs_background": "light"
     },
     "output_type": "display_data"
    },
    {
     "data": {
      "text/plain": [
       "<AxesSubplot: >"
      ]
     },
     "execution_count": 9,
     "metadata": {},
     "output_type": "execute_result"
    },
    {
     "data": {
      "image/png": "[encoded data removed]",
      "text/plain": [
       "<Figure size 432x288 with 1 Axes>"
      ]
     },
     "metadata": {
      "needs_background": "light"
     },
     "output_type": "display_data"
    }
   ],
   "source": [
    "sns.boxplot(df_event_a)\n",
    "plt.show()\n",
    "sns.boxplot(df_event_b)\n",
    "plt.show()\n",
    "sns.boxplot(df_event_before)"
   ]
  },
  {
   "attachments": {},
   "cell_type": "markdown",
   "metadata": {},
   "source": [
    "We can clearly see outliers both high and low values. But values below zero must be an error so only these i will remove."
   ]
  },
  {
   "cell_type": "code",
   "execution_count": 10,
   "metadata": {},
   "outputs": [],
   "source": [
    "def remove_below_zero_outliers(df, df_name):\n",
    "    # function to remove values below or equal to zero\n",
    "    print(f\"Outliers removed from {df_name}: {df.order_value[df.order_value <= 0].count()}\")\n",
    "    df_filtered = df.loc[(df['event_type'] != 'purchased_shopping_cart') | (df['order_value'] > 0)]\n",
    "\n",
    "    df_filtered = df_filtered.drop(df_filtered.loc[(df_filtered['event_type'] == 'purchased_shopping_cart') & (df_filtered['order_value'] < 0)].index)\n",
    "    \n",
    "    return df_filtered"
   ]
  },
  {
   "cell_type": "code",
   "execution_count": 11,
   "metadata": {},
   "outputs": [
    {
     "name": "stdout",
     "output_type": "stream",
     "text": [
      "Outliers removed from df_event_a: 0\n",
      "Outliers removed from df_event_b: 3\n",
      "Outliers removed from df_event_before: 4\n"
     ]
    }
   ],
   "source": [
    "df_event_a = remove_below_zero_outliers(df_event_a, \"df_event_a\")\n",
    "df_event_b = remove_below_zero_outliers(df_event_b, \"df_event_b\")\n",
    "df_event_before = remove_below_zero_outliers(df_event_before, \"df_event_before\")"
   ]
  },
  {
   "attachments": {},
   "cell_type": "markdown",
   "metadata": {},
   "source": [
    "## Time frame"
   ]
  },
  {
   "cell_type": "code",
   "execution_count": 12,
   "metadata": {},
   "outputs": [],
   "source": [
    "# Change type of data from object to datetime\n",
    "df_event_a.date = pd.to_datetime(df_event_a.date)\n",
    "df_event_b.date = pd.to_datetime(df_event_b.date)\n",
    "df_event_before.date = pd.to_datetime(df_event_before.date)"
   ]
  },
  {
   "cell_type": "code",
   "execution_count": 13,
   "metadata": {},
   "outputs": [],
   "source": [
    "df_event_a['weekday'] = df_event_a.date.dt.day_name()\n",
    "df_event_b['weekday'] = df_event_b.date.dt.day_name()\n",
    "df_event_before['weekday'] = df_event_before.date.dt.day_name()"
   ]
  },
  {
   "cell_type": "code",
   "execution_count": 14,
   "metadata": {},
   "outputs": [
    {
     "name": "stdout",
     "output_type": "stream",
     "text": [
      "Event before: 2023-01-01 00:00:00 - 2023-01-31 00:00:00\n",
      "Event A before: 2023-02-01 00:00:00 - 2023-02-07 00:00:00\n",
      "Event B before: 2023-02-01 00:00:00 - 2023-02-07 00:00:00\n"
     ]
    }
   ],
   "source": [
    "print(f\"Event before: {df_event_before.date.min()} - {df_event_before.date.max()}\")\n",
    "print(f\"Event A before: {df_event_a.date.min()} - {df_event_a.date.max()}\")\n",
    "print(f\"Event B before: {df_event_b.date.min()} - {df_event_b.date.max()}\")"
   ]
  },
  {
   "attachments": {},
   "cell_type": "markdown",
   "metadata": {},
   "source": [
    "Event A and Event B rund som 1st of February to 7th of February. Event Before is the whole of January"
   ]
  },
  {
   "attachments": {},
   "cell_type": "markdown",
   "metadata": {},
   "source": [
    "# Conversion"
   ]
  },
  {
   "cell_type": "code",
   "execution_count": 15,
   "metadata": {},
   "outputs": [
    {
     "name": "stdout",
     "output_type": "stream",
     "text": [
      "Event A: [1000, 98] 9.8 %\n",
      "Event B: [1000, 138] 13.8 %\n",
      "Event Before: [10000, 1019] 10.2 %\n"
     ]
    }
   ],
   "source": [
    "conv_event_a = [df_event_a.event_type[df_event_a.event_type == \"opened_shopping_cart\"].count(),\n",
    "    df_event_a.event_type[df_event_a.event_type == \"purchased_shopping_cart\"].count()]\n",
    "conv_event_b = [df_event_b.event_type[df_event_b.event_type == \"opened_shopping_cart\"].count(),\n",
    "    df_event_b.event_type[df_event_b.event_type == \"purchased_shopping_cart\"].count()]\n",
    "\n",
    "conv_event_before = [df_event_before.event_type[df_event_before.event_type == \"opened_shopping_cart\"].count(),\n",
    "    df_event_before.event_type[df_event_before.event_type == \"purchased_shopping_cart\"].count()]\n",
    "\n",
    "print(f\"Event A: {conv_event_a} {(conv_event_a[1]/conv_event_a[0])*100} %\")\n",
    "print(f\"Event B: {conv_event_b} {(conv_event_b[1]/conv_event_b[0])*100} %\")\n",
    "print(f\"Event Before: {conv_event_before} {round((conv_event_before[1]/conv_event_before[0])*100,1)} %\")"
   ]
  },
  {
   "cell_type": "code",
   "execution_count": 16,
   "metadata": {},
   "outputs": [
    {
     "name": "stdout",
     "output_type": "stream",
     "text": [
      "Difference betweem Event B and Event A: 41.0 %\n",
      "Difference betweem Event B and Event Before: 35.4 %\n"
     ]
    }
   ],
   "source": [
    "print(f\"Difference betweem Event B and Event A: {round((conv_event_b[1]-conv_event_a[1]) / conv_event_a[1],2)*100} %\")\n",
    "print(f\"Difference betweem Event B and Event Before: {round((((conv_event_b[1]/conv_event_b[0]))-((conv_event_before[1]/conv_event_before[0])))/((conv_event_before[1]/conv_event_before[0]))*100,1)} %\")"
   ]
  },
  {
   "attachments": {},
   "cell_type": "markdown",
   "metadata": {},
   "source": [
    "## Sample size"
   ]
  },
  {
   "cell_type": "code",
   "execution_count": 55,
   "metadata": {},
   "outputs": [
    {
     "name": "stdout",
     "output_type": "stream",
     "text": [
      "Sample size with unlimited population 384\n",
      "Sample size with finite population: 370\n"
     ]
    }
   ],
   "source": [
    "# N = population size - number of conversion in Event Before\n",
    "N = conv_event_before[0]\n",
    "# z = z-score\n",
    "z = 1.96\n",
    "# e = margin of error\n",
    "e = 0.05\n",
    "# p = standard deviation\n",
    "p = 0.5\n",
    "\n",
    "# numerator or Unlimited population\n",
    "numerator = ((z**2) * p * (1 - p)) / (e**2)\n",
    "\n",
    "denominator = 1 + (((z**2) * p * (1 - p)) / (e**2 * N))\n",
    "\n",
    "sample_size = math.ceil(numerator / denominator)\n",
    "\n",
    "print(f\"Sample size with unlimited population {round(numerator)}\")\n",
    "print(f\"Sample size with finite population: {sample_size}\")"
   ]
  },
  {
   "cell_type": "code",
   "execution_count": null,
   "metadata": {},
   "outputs": [],
   "source": [
    "https://www.calculator.net/sample-size-calculator.html"
   ]
  },
  {
   "cell_type": "code",
   "execution_count": 18,
   "metadata": {},
   "outputs": [
    {
     "name": "stdout",
     "output_type": "stream",
     "text": [
      "Number of conversions for Event a: 98\n",
      "Number of conversions for Event b: 138\n"
     ]
    }
   ],
   "source": [
    "print(f\"Number of conversions for Event a: {conv_event_a[1]}\")\n",
    "print(f\"Number of conversions for Event b: {conv_event_b[1]}\")\n"
   ]
  },
  {
   "attachments": {},
   "cell_type": "markdown",
   "metadata": {},
   "source": [
    "The number of samples are to low to make a statistically correct judgment on the data."
   ]
  },
  {
   "attachments": {},
   "cell_type": "markdown",
   "metadata": {},
   "source": [
    "# Gender split"
   ]
  },
  {
   "cell_type": "code",
   "execution_count": 19,
   "metadata": {},
   "outputs": [],
   "source": [
    "#Event A:\n",
    "event_a_gender_opened = df_event_a.gender[df_event_a.event_type==\"opened_shopping_cart\"].value_counts(normalize=True)*100\n",
    "event_a_gender_purch = df_event_a.gender[df_event_a.event_type==\"purchased_shopping_cart\"].value_counts(normalize=True)*100\n",
    "#Event B:\n",
    "event_b_gender_opened = df_event_b.gender[df_event_b.event_type==\"opened_shopping_cart\"].value_counts(normalize=True)*100\n",
    "event_b_gender_purch = df_event_b.gender[df_event_b.event_type==\"purchased_shopping_cart\"].value_counts(normalize=True)*100\n",
    "#Event Before:\n",
    "event_be_gender_opened = df_event_before.gender[df_event_before.event_type==\"opened_shopping_cart\"].value_counts(normalize=True)*100\n",
    "event_be_gender_purch = df_event_before.gender[df_event_before.event_type==\"purchased_shopping_cart\"].value_counts(normalize=True)*100\n"
   ]
  },
  {
   "cell_type": "code",
   "execution_count": 20,
   "metadata": {},
   "outputs": [
    {
     "data": {
      "text/html": [
       "<div>\n",
       "<style scoped>\n",
       "    .dataframe tbody tr th:only-of-type {\n",
       "        vertical-align: middle;\n",
       "    }\n",
       "\n",
       "    .dataframe tbody tr th {\n",
       "        vertical-align: top;\n",
       "    }\n",
       "\n",
       "    .dataframe thead th {\n",
       "        text-align: right;\n",
       "    }\n",
       "</style>\n",
       "<table border=\"1\" class=\"dataframe\">\n",
       "  <thead>\n",
       "    <tr style=\"text-align: right;\">\n",
       "      <th></th>\n",
       "      <th>Event_A_Opened</th>\n",
       "      <th>Event_B_Opened</th>\n",
       "      <th>Event_Before_Opened</th>\n",
       "      <th>Event_A_Purchase</th>\n",
       "      <th>Event_B_Purchase</th>\n",
       "      <th>Event_Before_Purchase</th>\n",
       "    </tr>\n",
       "  </thead>\n",
       "  <tbody>\n",
       "    <tr>\n",
       "      <th>man</th>\n",
       "      <td>44.7</td>\n",
       "      <td>44.6</td>\n",
       "      <td>44.1</td>\n",
       "      <td>46.9</td>\n",
       "      <td>42.9</td>\n",
       "      <td>44.3</td>\n",
       "    </tr>\n",
       "    <tr>\n",
       "      <th>woman</th>\n",
       "      <td>38.7</td>\n",
       "      <td>40.1</td>\n",
       "      <td>40.6</td>\n",
       "      <td>37.0</td>\n",
       "      <td>39.3</td>\n",
       "      <td>40.7</td>\n",
       "    </tr>\n",
       "    <tr>\n",
       "      <th>non-binary</th>\n",
       "      <td>16.5</td>\n",
       "      <td>15.3</td>\n",
       "      <td>15.4</td>\n",
       "      <td>16.0</td>\n",
       "      <td>17.9</td>\n",
       "      <td>15.0</td>\n",
       "    </tr>\n",
       "  </tbody>\n",
       "</table>\n",
       "</div>"
      ],
      "text/plain": [
       "            Event_A_Opened  Event_B_Opened  Event_Before_Opened  \\\n",
       "man                   44.7            44.6                 44.1   \n",
       "woman                 38.7            40.1                 40.6   \n",
       "non-binary            16.5            15.3                 15.4   \n",
       "\n",
       "            Event_A_Purchase  Event_B_Purchase  Event_Before_Purchase  \n",
       "man                     46.9              42.9                   44.3  \n",
       "woman                   37.0              39.3                   40.7  \n",
       "non-binary              16.0              17.9                   15.0  "
      ]
     },
     "execution_count": 20,
     "metadata": {},
     "output_type": "execute_result"
    }
   ],
   "source": [
    "gender_data = pd.DataFrame({\n",
    "    'Event_A_Opened': [round(event_a_gender_opened[0],1), round(event_a_gender_opened[1],1), round(event_a_gender_opened[2],1)],\n",
    "    'Event_B_Opened': [round(event_b_gender_opened[0],1), round(event_b_gender_opened[1],1), round(event_b_gender_opened[2],1)],\n",
    "    'Event_Before_Opened' : [round(event_be_gender_opened[0],1), round(event_be_gender_opened[1],1), round(event_be_gender_opened[2],1)], \n",
    "    'Event_A_Purchase': [round(event_a_gender_purch[0],1), round(event_a_gender_purch[1],1), round(event_a_gender_purch[2],1)],\n",
    "    'Event_B_Purchase': [round(event_b_gender_purch[0],1), round(event_b_gender_purch[1],1), round(event_b_gender_purch[2],1)],\n",
    "    'Event_Before_Purchase' : [round(event_be_gender_purch[0],1), round(event_be_gender_purch[1],1), round(event_be_gender_purch[2],1)] \n",
    "}, index=['man', 'woman', 'non-binary'])\n",
    "gender_data"
   ]
  },
  {
   "attachments": {},
   "cell_type": "markdown",
   "metadata": {},
   "source": [
    "## Country split"
   ]
  },
  {
   "cell_type": "code",
   "execution_count": 21,
   "metadata": {},
   "outputs": [],
   "source": [
    "#Event A:\n",
    "event_a_country_opened = df_event_a.country[df_event_a.event_type==\"opened_shopping_cart\"].value_counts(normalize=True)*100\n",
    "event_a_country_purch = df_event_a.country[df_event_a.event_type==\"purchased_shopping_cart\"].value_counts(normalize=True)*100\n",
    "#Event B:\n",
    "event_b_country_opened = df_event_b.country[df_event_b.event_type==\"opened_shopping_cart\"].value_counts(normalize=True)*100\n",
    "event_b_country_purch = df_event_b.country[df_event_b.event_type==\"purchased_shopping_cart\"].value_counts(normalize=True)*100\n",
    "#Event Before:\n",
    "event_be_country_opened = df_event_before.country[df_event_before.event_type==\"opened_shopping_cart\"].value_counts(normalize=True)*100\n",
    "event_be_country_purch = df_event_before.country[df_event_before.event_type==\"purchased_shopping_cart\"].value_counts(normalize=True)*100\n"
   ]
  },
  {
   "cell_type": "code",
   "execution_count": 22,
   "metadata": {},
   "outputs": [],
   "source": [
    "\n",
    "df_country = pd.concat([round(event_a_country_purch,1), round(event_b_country_purch,1), round(event_be_country_purch,1)], axis=1, keys= ['Event a', 'Event b', 'Event before'])"
   ]
  },
  {
   "cell_type": "code",
   "execution_count": 23,
   "metadata": {},
   "outputs": [
    {
     "data": {
      "text/html": [
       "<div>\n",
       "<style scoped>\n",
       "    .dataframe tbody tr th:only-of-type {\n",
       "        vertical-align: middle;\n",
       "    }\n",
       "\n",
       "    .dataframe tbody tr th {\n",
       "        vertical-align: top;\n",
       "    }\n",
       "\n",
       "    .dataframe thead th {\n",
       "        text-align: right;\n",
       "    }\n",
       "</style>\n",
       "<table border=\"1\" class=\"dataframe\">\n",
       "  <thead>\n",
       "    <tr style=\"text-align: right;\">\n",
       "      <th></th>\n",
       "      <th>Event a</th>\n",
       "      <th>Event b</th>\n",
       "      <th>Event before</th>\n",
       "    </tr>\n",
       "  </thead>\n",
       "  <tbody>\n",
       "    <tr>\n",
       "      <th>sweden</th>\n",
       "      <td>57.8</td>\n",
       "      <td>62.0</td>\n",
       "      <td>64.1</td>\n",
       "    </tr>\n",
       "    <tr>\n",
       "      <th>denmark</th>\n",
       "      <td>18.1</td>\n",
       "      <td>18.0</td>\n",
       "      <td>14.0</td>\n",
       "    </tr>\n",
       "    <tr>\n",
       "      <th>norway</th>\n",
       "      <td>14.5</td>\n",
       "      <td>14.0</td>\n",
       "      <td>9.5</td>\n",
       "    </tr>\n",
       "    <tr>\n",
       "      <th>germany</th>\n",
       "      <td>9.6</td>\n",
       "      <td>6.0</td>\n",
       "      <td>12.4</td>\n",
       "    </tr>\n",
       "  </tbody>\n",
       "</table>\n",
       "</div>"
      ],
      "text/plain": [
       "         Event a  Event b  Event before\n",
       "sweden      57.8     62.0          64.1\n",
       "denmark     18.1     18.0          14.0\n",
       "norway      14.5     14.0           9.5\n",
       "germany      9.6      6.0          12.4"
      ]
     },
     "execution_count": 23,
     "metadata": {},
     "output_type": "execute_result"
    }
   ],
   "source": [
    "df_country"
   ]
  },
  {
   "attachments": {},
   "cell_type": "markdown",
   "metadata": {},
   "source": [
    "## Weekday split"
   ]
  },
  {
   "cell_type": "code",
   "execution_count": 24,
   "metadata": {},
   "outputs": [],
   "source": [
    "def plot_weekday_percentage(df, title):\n",
    "    # order of days\n",
    "    weekday_order = [\"Monday\", \"Tuesday\", \"Wednesday\", \"Thursday\", \"Friday\", \"Saturday\",\"Sunday\"]\n",
    "    \n",
    "    # create a new dataframe with the counts of opened_shopping_cart events by weekday\n",
    "    df_opened_counts = df[df['event_type'] == 'opened_shopping_cart'].groupby('weekday').size()\n",
    "\n",
    "    # create a new dataframe with the counts of purchased_shopping_cart events by weekday\n",
    "    df_purchased_counts = df[df['event_type'] == 'purchased_shopping_cart'].groupby('weekday').size()\n",
    "\n",
    "    # calculate the percentage of opened_shopping_cart events on total opened_shopping_cart by weekday\n",
    "    df_opened_pct = df_opened_counts / df_opened_counts.sum()\n",
    "\n",
    "    # calculate the percentage of purchased_shopping_cart events on total purchased_shopping_cart by weekday\n",
    "    df_purchased_pct = df_purchased_counts / df_purchased_counts.sum()\n",
    "\n",
    "    # concatenate the two percentage dataframes\n",
    "    df_concat = pd.concat([df_opened_pct, df_purchased_pct], axis=1)\n",
    "    df_concat = df_concat.reindex(weekday_order)\n",
    "\n",
    "    # create the bar plot with a size of 10 inches by 6 inches\n",
    "    fig, ax = plt.subplots(figsize=(10, 6))\n",
    "    df_concat.plot(kind='bar', ax=ax)\n",
    "\n",
    "    # set the title and axis labels\n",
    "    ax.set_title(title)\n",
    "    ax.set_xlabel('Weekday')\n",
    "    ax.set_ylabel('Percentage')\n",
    "\n",
    "    # add a legend\n",
    "    ax.legend(['opened_shopping_cart', 'purchased_shopping_cart'])"
   ]
  },
  {
   "cell_type": "code",
   "execution_count": 25,
   "metadata": {},
   "outputs": [
    {
     "data": {
      "image/png": "[encoded data removed]",
      "text/plain": [
       "<Figure size 720x432 with 1 Axes>"
      ]
     },
     "metadata": {
      "needs_background": "light"
     },
     "output_type": "display_data"
    },
    {
     "data": {
      "image/png": "[encoded data removed]",
      "text/plain": [
       "<Figure size 720x432 with 1 Axes>"
      ]
     },
     "metadata": {
      "needs_background": "light"
     },
     "output_type": "display_data"
    },
    {
     "data": {
      "image/png": "[encoded data removed]",
      "text/plain": [
       "<Figure size 720x432 with 1 Axes>"
      ]
     },
     "metadata": {
      "needs_background": "light"
     },
     "output_type": "display_data"
    }
   ],
   "source": [
    "plot_weekday_percentage(df_event_a, title=\"Event A\")\n",
    "plot_weekday_percentage(df_event_b, title=\"Event B\")\n",
    "plot_weekday_percentage(df_event_before, title=\"Event Before\")"
   ]
  },
  {
   "attachments": {},
   "cell_type": "markdown",
   "metadata": {},
   "source": [
    "## Sales"
   ]
  },
  {
   "cell_type": "code",
   "execution_count": 26,
   "metadata": {},
   "outputs": [
    {
     "data": {
      "text/plain": [
       "weekday\n",
       "Friday       248.114286\n",
       "Monday       218.109890\n",
       "Saturday     238.107692\n",
       "Sunday       231.269504\n",
       "Thursday     206.658730\n",
       "Tuesday      209.371429\n",
       "Wednesday    189.656000\n",
       "Name: order_value, dtype: float64"
      ]
     },
     "execution_count": 26,
     "metadata": {},
     "output_type": "execute_result"
    }
   ],
   "source": [
    "weekday_average = df_event_before.groupby('weekday')['order_value'].mean()\n",
    "weekday_average"
   ]
  },
  {
   "cell_type": "code",
   "execution_count": 27,
   "metadata": {},
   "outputs": [],
   "source": [
    "sales_a = df_event_a.groupby('weekday')['order_value'].mean()\n",
    "sales_b = df_event_b.groupby('weekday')['order_value'].mean()\n",
    "sales_before = df_event_before.groupby('weekday')['order_value'].mean()\n"
   ]
  },
  {
   "cell_type": "code",
   "execution_count": 28,
   "metadata": {},
   "outputs": [],
   "source": [
    "# Define the desired order of weekdays\n",
    "weekday_order = ['Monday', 'Tuesday', 'Wednesday', 'Thursday', 'Friday', 'Saturday', 'Sunday']\n",
    "\n",
    "# Reindex the three series using the weekday_order list\n",
    "sales_a = sales_a.reindex(weekday_order)\n",
    "sales_b = sales_b.reindex(weekday_order)\n",
    "sales_before = sales_before.reindex(weekday_order)\n",
    "\n",
    "# Round the three series to 2 decimal places\n",
    "sales_a = sales_a.round(2)\n",
    "sales_b = sales_b.round(2)\n",
    "sales_before = sales_before.round(2)\n"
   ]
  },
  {
   "cell_type": "code",
   "execution_count": 29,
   "metadata": {},
   "outputs": [
    {
     "name": "stdout",
     "output_type": "stream",
     "text": [
      "           sales_a  sales_b  sales_before  mean_per_row\n",
      "weekday                                                \n",
      "Monday      237.83   174.22        218.11        210.05\n",
      "Tuesday     200.46   165.95        209.37        191.93\n",
      "Wednesday   202.73   156.88        189.66        183.09\n",
      "Thursday    206.81   206.17        206.66        206.55\n",
      "Friday      223.67   188.77        248.11        220.18\n",
      "Saturday    241.37   192.00        238.11        223.83\n",
      "Sunday      251.55   192.27        231.27        225.03\n"
     ]
    }
   ],
   "source": [
    "# Combine the three series into one DataFrame\n",
    "comb_df = pd.DataFrame({'sales_a': sales_a, 'sales_b': sales_b, 'sales_before': sales_before})\n",
    "comb_df['mean_per_row'] = comb_df.mean(axis=1)\n",
    "comb_df.mean_per_row = comb_df.mean_per_row.round(2)\n",
    "# Print the resulting DataFrame\n",
    "print(comb_df)"
   ]
  },
  {
   "attachments": {},
   "cell_type": "markdown",
   "metadata": {},
   "source": [
    "### Plot Order Value figures"
   ]
  },
  {
   "cell_type": "code",
   "execution_count": 30,
   "metadata": {},
   "outputs": [
    {
     "data": {
      "text/plain": [
       "<AxesSubplot: xlabel='weekday'>"
      ]
     },
     "execution_count": 30,
     "metadata": {},
     "output_type": "execute_result"
    },
    {
     "data": {
      "image/png": "[encoded data removed]",
      "text/plain": [
       "<Figure size 1080x720 with 1 Axes>"
      ]
     },
     "metadata": {
      "needs_background": "light"
     },
     "output_type": "display_data"
    }
   ],
   "source": [
    "fig, ax = plt.subplots(figsize=(15, 10))\n",
    "plt.ylim((100, comb_df.sales_a.max()+50))\n",
    "sns.lineplot(comb_df, ax=ax)"
   ]
  },
  {
   "attachments": {},
   "cell_type": "markdown",
   "metadata": {},
   "source": [
    "### Mean order value"
   ]
  },
  {
   "cell_type": "code",
   "execution_count": 31,
   "metadata": {},
   "outputs": [
    {
     "name": "stdout",
     "output_type": "stream",
     "text": [
      "222.9\n",
      "183.2\n",
      "220.2\n"
     ]
    }
   ],
   "source": [
    "print(round(df_event_a.order_value.mean(),1))\n",
    "print(round(df_event_b.order_value.mean(),1))\n",
    "print(round(df_event_before.order_value.mean(),1))"
   ]
  },
  {
   "attachments": {},
   "cell_type": "markdown",
   "metadata": {},
   "source": [
    "### Median order value"
   ]
  },
  {
   "cell_type": "code",
   "execution_count": 32,
   "metadata": {},
   "outputs": [
    {
     "name": "stdout",
     "output_type": "stream",
     "text": [
      "222.0\n",
      "187.0\n",
      "217.0\n"
     ]
    }
   ],
   "source": [
    "print(round(df_event_a.order_value.median(),1))\n",
    "print(round(df_event_b.order_value.median(),1))\n",
    "print(round(df_event_before.order_value.median(),1))"
   ]
  },
  {
   "attachments": {},
   "cell_type": "markdown",
   "metadata": {},
   "source": [
    "### Min and Max order value"
   ]
  },
  {
   "cell_type": "code",
   "execution_count": 33,
   "metadata": {},
   "outputs": [
    {
     "name": "stdout",
     "output_type": "stream",
     "text": [
      "13.0 392.0\n",
      "8.0 467.0\n",
      "14.0 544.0\n"
     ]
    }
   ],
   "source": [
    "print(f\"{df_event_a.order_value.min()} {df_event_a.order_value.max()}\")\n",
    "print(f\"{df_event_b.order_value.min()} {df_event_b.order_value.max()}\")\n",
    "print(f\"{df_event_before.order_value.min()} {df_event_before.order_value.max()}\")"
   ]
  },
  {
   "attachments": {},
   "cell_type": "markdown",
   "metadata": {},
   "source": [
    "# Looking at gender and purchases changes"
   ]
  },
  {
   "cell_type": "code",
   "execution_count": 34,
   "metadata": {},
   "outputs": [],
   "source": [
    "def plot_weekday_gender_purchase(df, title):\n",
    "    weekday_order = ['Monday', 'Tuesday', 'Wednesday', 'Thursday', 'Friday', 'Saturday', 'Sunday']\n",
    "\n",
    "    # Filter the DataFrame to only include purchase_shopping_cart events\n",
    "    df_purchase = df.loc[df['event_type'] == 'purchased_shopping_cart']\n",
    "\n",
    "    # Calculate the count of male and female users for each weekday\n",
    "    df_gender = df_purchase.groupby(['weekday', 'gender']).size().reset_index(name='count')\n",
    "\n",
    "    # Calculate the percentage of each gender type for each weekday\n",
    "    df_gender_pct = pd.DataFrame()\n",
    "    for weekday in df_gender['weekday'].unique():\n",
    "        df_gender_weekday = df_gender.loc[df_gender['weekday'] == weekday].copy()\n",
    "        total_count = df_gender_weekday['count'].sum()\n",
    "        df_gender_weekday['percentage'] = df_gender_weekday['count'] / total_count * 100\n",
    "        df_gender_pct = pd.concat([df_gender_pct, df_gender_weekday])\n",
    "\n",
    "    # Create the bar plot\n",
    "\n",
    "    # Specify the order for the legend labels\n",
    "    hue_order = ['man', 'woman', 'non-binary']\n",
    "    \n",
    "    # Specify the colors for the genders\n",
    "    colors = {\"man\": \"#339FFF\", \"woman\": \"#FF5733\", \"non-binary\" : \"#33FF80\"}\n",
    "    \n",
    "    #Figsize\n",
    "    fig, ax = plt.subplots(figsize=(10, 5))\n",
    "    # Create the bar plot\n",
    "    sns.barplot(data=df_gender_pct, x='weekday', y='percentage', hue='gender', hue_order=hue_order, order=weekday_order, palette=colors, ax=ax)\n",
    "    sns.color_palette(\"pastel\")\n",
    "    # Set the title and labels for the plot\n",
    "    ax.set_title(title)\n",
    "    #sns.set(title=title, xlabel='Weekday', ylabel='Percentage of Purchases')\n",
    "\n",
    "    ax.legend(loc='upper center', bbox_to_anchor=(0.5, -0.1), ncol=2)\n",
    "    \n",
    "    # Show the plot\n",
    "    plt.show()"
   ]
  },
  {
   "cell_type": "code",
   "execution_count": 35,
   "metadata": {},
   "outputs": [
    {
     "data": {
      "image/png": "[encoded data removed]",
      "text/plain": [
       "<Figure size 720x360 with 1 Axes>"
      ]
     },
     "metadata": {
      "needs_background": "light"
     },
     "output_type": "display_data"
    },
    {
     "data": {
      "image/png": "[encoded data removed]",
      "text/plain": [
       "<Figure size 720x360 with 1 Axes>"
      ]
     },
     "metadata": {
      "needs_background": "light"
     },
     "output_type": "display_data"
    },
    {
     "data": {
      "image/png": "[encoded data removed]",
      "text/plain": [
       "<Figure size 720x360 with 1 Axes>"
      ]
     },
     "metadata": {
      "needs_background": "light"
     },
     "output_type": "display_data"
    }
   ],
   "source": [
    "plot_weekday_gender_purchase(df_event_a, title=\"Event A\")\n",
    "plot_weekday_gender_purchase(df_event_b, title=\"Event B\")\n",
    "plot_weekday_gender_purchase(df_event_before, title=\"Event Before\")"
   ]
  },
  {
   "attachments": {},
   "cell_type": "markdown",
   "metadata": {},
   "source": [
    "# Account type"
   ]
  },
  {
   "attachments": {},
   "cell_type": "markdown",
   "metadata": {},
   "source": [
    "### Event A"
   ]
  },
  {
   "cell_type": "code",
   "execution_count": 36,
   "metadata": {},
   "outputs": [
    {
     "data": {
      "text/plain": [
       "array(['free', 'basic', 'premium'], dtype=object)"
      ]
     },
     "execution_count": 36,
     "metadata": {},
     "output_type": "execute_result"
    }
   ],
   "source": [
    "df_event_a.account_type.unique()"
   ]
  },
  {
   "cell_type": "code",
   "execution_count": 37,
   "metadata": {},
   "outputs": [],
   "source": [
    "account_event_a = df_event_a.groupby(['account_type','event_type']).count()\n",
    "account_event_a.rename(columns={'user_id':'Event a'}, inplace=True)\n",
    "#account_event_a.user_id"
   ]
  },
  {
   "cell_type": "code",
   "execution_count": 38,
   "metadata": {},
   "outputs": [
    {
     "name": "stdout",
     "output_type": "stream",
     "text": [
      "Basic 10.5 %\n",
      "Free 9.6 %\n",
      "Premium 9.5 %\n"
     ]
    }
   ],
   "source": [
    "print(f\"Basic {round(account_event_a['Event a'][1]/account_event_a['Event a'][0]*100,1)} %\")\n",
    "print(f\"Free {round(account_event_a['Event a'][3]/account_event_a['Event a'][2]*100,1)} %\")\n",
    "print(f\"Premium {round(account_event_a['Event a'][5]/account_event_a['Event a'][4]*100,1)} %\")"
   ]
  },
  {
   "cell_type": "code",
   "execution_count": 39,
   "metadata": {},
   "outputs": [],
   "source": [
    "temp_event_a = round(account_event_a.iloc[1::2, :1] / account_event_a.iloc[1::2, :1].sum() *100,1)"
   ]
  },
  {
   "attachments": {},
   "cell_type": "markdown",
   "metadata": {},
   "source": [
    "### Event B"
   ]
  },
  {
   "cell_type": "code",
   "execution_count": 40,
   "metadata": {},
   "outputs": [],
   "source": [
    "account_event_b = df_event_b.groupby(['account_type','event_type']).count()\n",
    "account_event_b.rename(columns={'user_id':'Event b'}, inplace=True)\n"
   ]
  },
  {
   "cell_type": "code",
   "execution_count": 41,
   "metadata": {},
   "outputs": [
    {
     "name": "stdout",
     "output_type": "stream",
     "text": [
      "Basic 14.8 %\n",
      "Free 13.4 %\n",
      "Premium 14.6 %\n"
     ]
    }
   ],
   "source": [
    "print(f\"Basic {round(account_event_b['Event b'][1]/account_event_b['Event b'][0]*100,1)} %\")\n",
    "print(f\"Free {round(account_event_b['Event b'][3]/account_event_b['Event b'][2]*100,1)} %\")\n",
    "print(f\"Premium {round(account_event_b['Event b'][5]/account_event_b['Event b'][4]*100,1)} %\")"
   ]
  },
  {
   "cell_type": "code",
   "execution_count": 42,
   "metadata": {},
   "outputs": [],
   "source": [
    "temp_event_b = round(account_event_b.iloc[1::2, :1] / account_event_b.iloc[1::2, :1].sum() *100,1)"
   ]
  },
  {
   "attachments": {},
   "cell_type": "markdown",
   "metadata": {},
   "source": [
    "### Event Before"
   ]
  },
  {
   "cell_type": "code",
   "execution_count": 43,
   "metadata": {},
   "outputs": [],
   "source": [
    "account_event_before = df_event_before.groupby(['account_type','event_type']).count()\n",
    "account_event_before.rename(columns={'user_id':'Event before'}, inplace=True)\n",
    "#account_event_before.user_id"
   ]
  },
  {
   "cell_type": "code",
   "execution_count": 44,
   "metadata": {},
   "outputs": [
    {
     "name": "stdout",
     "output_type": "stream",
     "text": [
      "Basic 10.4 %\n",
      "Free 10.3 %\n",
      "Premium 8.8 %\n"
     ]
    }
   ],
   "source": [
    "print(f\"Basic {round(account_event_before['Event before'][1]/account_event_before['Event before'][0]*100,1)} %\")\n",
    "print(f\"Free {round(account_event_before['Event before'][3]/account_event_before['Event before'][2]*100,1)} %\")\n",
    "print(f\"Premium {round(account_event_before['Event before'][5]/account_event_before['Event before'][4]*100,1)} %\")"
   ]
  },
  {
   "cell_type": "code",
   "execution_count": 45,
   "metadata": {},
   "outputs": [],
   "source": [
    "temp_event_before = round(account_event_before.iloc[1::2, :1] / account_event_before.iloc[1::2, :1].sum() *100,1)"
   ]
  },
  {
   "cell_type": "code",
   "execution_count": 46,
   "metadata": {},
   "outputs": [],
   "source": [
    "df = pd.concat([temp_event_a, temp_event_b, temp_event_before], axis=1)"
   ]
  },
  {
   "cell_type": "code",
   "execution_count": 47,
   "metadata": {},
   "outputs": [
    {
     "data": {
      "text/html": [
       "<div>\n",
       "<style scoped>\n",
       "    .dataframe tbody tr th:only-of-type {\n",
       "        vertical-align: middle;\n",
       "    }\n",
       "\n",
       "    .dataframe tbody tr th {\n",
       "        vertical-align: top;\n",
       "    }\n",
       "\n",
       "    .dataframe thead th {\n",
       "        text-align: right;\n",
       "    }\n",
       "</style>\n",
       "<table border=\"1\" class=\"dataframe\">\n",
       "  <thead>\n",
       "    <tr style=\"text-align: right;\">\n",
       "      <th></th>\n",
       "      <th></th>\n",
       "      <th>Event a</th>\n",
       "      <th>Event b</th>\n",
       "      <th>Event before</th>\n",
       "    </tr>\n",
       "    <tr>\n",
       "      <th>account_type</th>\n",
       "      <th>event_type</th>\n",
       "      <th></th>\n",
       "      <th></th>\n",
       "      <th></th>\n",
       "    </tr>\n",
       "  </thead>\n",
       "  <tbody>\n",
       "    <tr>\n",
       "      <th>basic</th>\n",
       "      <th>purchased_shopping_cart</th>\n",
       "      <td>22.4</td>\n",
       "      <td>23.9</td>\n",
       "      <td>21.0</td>\n",
       "    </tr>\n",
       "    <tr>\n",
       "      <th>free</th>\n",
       "      <th>purchased_shopping_cart</th>\n",
       "      <td>67.3</td>\n",
       "      <td>65.9</td>\n",
       "      <td>70.4</td>\n",
       "    </tr>\n",
       "    <tr>\n",
       "      <th>premium</th>\n",
       "      <th>purchased_shopping_cart</th>\n",
       "      <td>10.2</td>\n",
       "      <td>10.1</td>\n",
       "      <td>8.6</td>\n",
       "    </tr>\n",
       "  </tbody>\n",
       "</table>\n",
       "</div>"
      ],
      "text/plain": [
       "                                      Event a  Event b  Event before\n",
       "account_type event_type                                             \n",
       "basic        purchased_shopping_cart     22.4     23.9          21.0\n",
       "free         purchased_shopping_cart     67.3     65.9          70.4\n",
       "premium      purchased_shopping_cart     10.2     10.1           8.6"
      ]
     },
     "execution_count": 47,
     "metadata": {},
     "output_type": "execute_result"
    }
   ],
   "source": [
    "df"
   ]
  }
 ],
 "metadata": {
  "kernelspec": {
   "display_name": "new",
   "language": "python",
   "name": "python3"
  },
  "language_info": {
   "codemirror_mode": {
    "name": "ipython",
    "version": 3
   },
   "file_extension": ".py",
   "mimetype": "text/x-python",
   "name": "python",
   "nbconvert_exporter": "python",
   "pygments_lexer": "ipython3",
   "version": "3.8.12"
  },
  "orig_nbformat": 4,
  "vscode": {
   "interpreter": {
    "hash": "c853e5d7f049679f46ee365c77fec8b4943e16b81c53fe6075b18d122fe67c7e"
   }
  }
 },
 "nbformat": 4,
 "nbformat_minor": 2
}
